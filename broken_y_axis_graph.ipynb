{
  "nbformat": 4,
  "nbformat_minor": 0,
  "metadata": {
    "colab": {
      "provenance": [],
      "toc_visible": true
    },
    "kernelspec": {
      "name": "python3",
      "display_name": "Python 3"
    },
    "language_info": {
      "name": "python"
    }
  },
  "cells": [
    {
      "cell_type": "markdown",
      "source": [
        "# broken y-axis graph\n",
        "\n"
      ],
      "metadata": {
        "id": "Do4mXj0xwMtZ"
      }
    },
    {
      "cell_type": "markdown",
      "source": [
        "##  한국어 폰트 설치\n",
        "\n"
      ],
      "metadata": {
        "id": "xw4PGmzBzGhN"
      }
    },
    {
      "cell_type": "code",
      "source": [
        "# Colab 전용 나눔글꼴 설치 코드\n",
        "!apt install fonts-nanum\n",
        "\n",
        "# !sudo apt-get install -y fonts-nanum\n",
        "# !sudo fc-cache -fv\n",
        "# !rm ~/.cache/matplotlib -rf"
      ],
      "metadata": {
        "colab": {
          "base_uri": "https://localhost:8080/"
        },
        "id": "A370Yfa6zEh5",
        "outputId": "514de3fc-2160-47e8-bec0-2779d65ef3b6"
      },
      "execution_count": 1,
      "outputs": [
        {
          "output_type": "stream",
          "name": "stdout",
          "text": [
            "Reading package lists... Done\n",
            "Building dependency tree       \n",
            "Reading state information... Done\n",
            "fonts-nanum is already the newest version (20180306-3).\n",
            "0 upgraded, 0 newly installed, 0 to remove and 24 not upgraded.\n"
          ]
        }
      ]
    },
    {
      "cell_type": "markdown",
      "source": [
        "## 라이브러리 설치"
      ],
      "metadata": {
        "id": "uQ6O8S-ABjm1"
      }
    },
    {
      "cell_type": "code",
      "source": [
        "import pandas as pd\n",
        "import matplotlib.pyplot as plt\n",
        "import seaborn as sns\n",
        "from matplotlib import font_manager\n",
        "import matplotlib.font_manager as fm"
      ],
      "metadata": {
        "id": "qcQkCE_agn6S"
      },
      "execution_count": 2,
      "outputs": []
    },
    {
      "cell_type": "markdown",
      "source": [
        "## 폰트 이름 찾기"
      ],
      "metadata": {
        "id": "w-_1yHRigl7d"
      }
    },
    {
      "cell_type": "markdown",
      "source": [
        "이름에 `Nanum`이 포함된 글꼴 찾기"
      ],
      "metadata": {
        "id": "xEnPkSUMg1BQ"
      }
    },
    {
      "cell_type": "code",
      "source": [
        "[(f.name, f.fname) for f in fm.fontManager.ttflist if 'Nanum' in f.name]"
      ],
      "metadata": {
        "colab": {
          "base_uri": "https://localhost:8080/"
        },
        "id": "y3ICeiVeCUnG",
        "outputId": "de5912ec-dd93-43ad-b868-18721f568100"
      },
      "execution_count": 3,
      "outputs": [
        {
          "output_type": "execute_result",
          "data": {
            "text/plain": [
              "[('NanumMyeongjo', '/usr/share/fonts/truetype/nanum/NanumMyeongjo.ttf'),\n",
              " ('NanumGothic', '/usr/share/fonts/truetype/nanum/NanumGothic.ttf'),\n",
              " ('NanumSquare', '/usr/share/fonts/truetype/nanum/NanumSquareB.ttf'),\n",
              " ('NanumBarunGothic',\n",
              "  '/usr/share/fonts/truetype/nanum/NanumBarunGothicBold.ttf'),\n",
              " ('NanumSquareRound', '/usr/share/fonts/truetype/nanum/NanumSquareRoundB.ttf'),\n",
              " ('NanumSquare', '/usr/share/fonts/truetype/nanum/NanumSquareR.ttf'),\n",
              " ('NanumSquareRound', '/usr/share/fonts/truetype/nanum/NanumSquareRoundR.ttf'),\n",
              " ('NanumGothic', '/usr/share/fonts/truetype/nanum/NanumGothicBold.ttf'),\n",
              " ('NanumMyeongjo', '/usr/share/fonts/truetype/nanum/NanumMyeongjoBold.ttf'),\n",
              " ('NanumBarunGothic', '/usr/share/fonts/truetype/nanum/NanumBarunGothic.ttf')]"
            ]
          },
          "metadata": {},
          "execution_count": 3
        }
      ]
    },
    {
      "cell_type": "code",
      "source": [
        "sns.set(font=\"NanumSquareB\", \n",
        "        rc={\"axes.unicode_minus\":False},\n",
        "        style='darkgrid')"
      ],
      "metadata": {
        "id": "4F7qMgZSBe9d"
      },
      "execution_count": 4,
      "outputs": []
    },
    {
      "cell_type": "code",
      "source": [
        "font_file_path_list = fm.findSystemFonts(fontpaths=None, fontext='ttf')\n",
        "\n",
        "font_path = '/usr/share/fonts/truetype/nanum/NanumSquareB.ttf'\n",
        "font_name = fm.FontProperties(fname=font_path).get_name()\n",
        "plt.rcParams['font.family'] = font_name\n",
        "plt.rcParams['font.size'] = 20\n",
        "\n",
        "# unicode minus를 사용하지 않기 위한 설정 (minus 깨짐현상 방지)\n",
        "plt.rcParams['axes.unicode_minus'] = False"
      ],
      "metadata": {
        "id": "Ja3FO1fsz8Fn"
      },
      "execution_count": 5,
      "outputs": []
    },
    {
      "cell_type": "markdown",
      "source": [
        "## 그래프 그리기"
      ],
      "metadata": {
        "id": "Gau2Z5rd1VZj"
      }
    },
    {
      "cell_type": "code",
      "execution_count": 29,
      "metadata": {
        "colab": {
          "base_uri": "https://localhost:8080/",
          "height": 440
        },
        "id": "RsJi9IjwvO5m",
        "outputId": "7f9a4fcb-4219-4508-807d-e592dc0cdf50"
      },
      "outputs": [
        {
          "output_type": "display_data",
          "data": {
            "text/plain": [
              "<Figure size 640x480 with 2 Axes>"
            ],
            "image/png": "[encoded data removed]"
          },
          "metadata": {}
        }
      ],
      "source": [
        "from matplotlib.patches import Rectangle\n",
        "\n",
        "f, (ax1, ax2) = plt.subplots(ncols=1, nrows=2, sharex=True)\n",
        "d = .8    # how big to make the diagonal lines in axes coordinates\n",
        "\n",
        "kwargs = dict(marker=[(-1, -d), (1, d)], markersize=30, linestyle=\"none\", color='r', clip_on=False)\n",
        "\n",
        "ax1.plot([0, 1], [0, 0], transform=ax1.transAxes, **kwargs)\n",
        "ax2.plot([0, 1], [1, 1], transform=ax2.transAxes, **kwargs)\n",
        "\n",
        "ax1.plot([0, 1], [0, 0], transform=ax1.transAxes)\n",
        "ax2.plot([0, 1], [1, 1], transform=ax2.transAxes)\n",
        "\n",
        "ax1.spines['bottom'].set_visible(False)\n",
        "ax2.spines['top'].set_visible(False)\n",
        "\n",
        "ax1.yaxis.grid()\n",
        "ax2.yaxis.grid()\n",
        "\n",
        "ax1.set_ylim(3399, 5000)\n",
        "ax2.set_ylim(0, 1600)\n",
        "\n",
        "ax1.set_yticks([3400, 3800, 4200, 4600, 5000])\n",
        "ax2.set_yticks([0, 400, 800, 1200, 1600])\n",
        "\n",
        "# 데이터 값\n",
        "x_values = [\"1월\", \" 2월\", \"3월\", \"4월\"]\n",
        "y_values_1 = [892, 923, 1187, 955] #빅데이터\n",
        "y_values_2 = [1207, 1260, 1305, 1458] #클라우드\n",
        "y_values_3 = [535, 531, 601, 530] #블록체인\n",
        "y_values_4 = [1071, 947, 953, 742] #메타버스\n",
        "y_values_5 = [3537, 4530, 4754, 4495] #AI\n",
        "\n",
        "# line plot 그리기\n",
        "ax1 = sns.lineplot(x=x_values, y=y_values_5, linestyle='-', marker='o', ax=ax1, color=\"lightblue\")\n",
        "ax2 = sns.lineplot(x=x_values, y=y_values_1, linestyle='-', marker='o', color=\"green\")\n",
        "ax2 = sns.lineplot(x=x_values, y=y_values_2, linestyle='-', marker='o', color=\"purple\")\n",
        "ax2 = sns.lineplot(x=x_values, y=y_values_3, linestyle='-', marker='o', color=\"orange\" )\n",
        "ax2 = sns.lineplot(x=x_values, y=y_values_4, linestyle='-', marker='o', color=\"red\")\n",
        "\n",
        "# 범례\n",
        "# ax1.get_legend().remove()\n",
        "# ax2.get_legend().remove()\n",
        "ax1.legend(\n",
        "    title = \"1분기 주요 기술\",\n",
        "    handles=[\n",
        "      Rectangle((0,0), 0, 0, color = \"lightblue\", alpha = 1, label=\"AI\"),\n",
        "      Rectangle((0,0), 0, 0, color = \"green\", alpha = 1, label=\"클라우드\"),\n",
        "      Rectangle((0,0), 0, 0, color = \"purple\", alpha = 1, label=\"메타버스\"),\n",
        "      Rectangle((0,0), 0, 0, color = \"orange\", alpha = 1, label=\"빅데이터\"),\n",
        "      Rectangle((0,0), 0, 0, color = \"red\", alpha = 1, label=\"블록체인\")\n",
        "  ],\n",
        "    # loc = \"upper right\",\n",
        "  #  bbox_to_anchor= (0, 0, 40, 1, 0),\n",
        "    bbox_to_anchor = (1,1),\n",
        "    ncol = 1,\n",
        "    fontsize = \"10\",\n",
        "    title_fontsize = \"10\"\n",
        ")\n",
        "\n",
        "plt.show()"
      ]
    },
    {
      "cell_type": "markdown",
      "source": [
        "# 더 해볼 만한 것\n",
        "그래프(x축, y축, 범례)를 데이터프레임을 만들어서 참조하는 형태가 아니라 일일이  그렸기 때문에 데이터 기반이라든지, 자동화라는 느낌이 들지 않는다.\n",
        "\n",
        "이런 경우 데이터가 많이 늘어나거나 변동이 생길 때 일일이 찾아서 고치기 어렵겠다는 생각이 든다.\n",
        "\n",
        "필요한 그래프 요소들을 데이터프레임에서 참조하여 그릴 수 있다면 틀만 만들어놓고 재사용할 수 있는 함수 코드를 만들 수 있을 것이다.\n",
        "\n",
        "그리고 barplot 그래프의 범례 코드를 참고하느라 불필요하게 Rectangle 함수를 썼으므로 이 부분도 함수화시키는 과정에서 기본 범례를 사용하면 개선할 수 있을 것이다.\n",
        "\n",
        "남는 시간에 차차 추가해볼 것!\n",
        "\n",
        "```python\n",
        "# colname:x, rowname:y ... / df[0]:x, df[1:]:y ...etc.\n",
        "x_names = ['1월', '2월', '3월', '4월']\n",
        "freq_df= df.groupby('x_names')[???]\n",
        "ax1.legend(\n",
        "    title=\"1분기 주요 기술\"\n",
        "    handles=[\n",
        "        \n",
        "    ]\n",
        ")\n",
        "```"
      ],
      "metadata": {
        "id": "yFujuYoO58j5"
      }
    },
    {
      "cell_type": "markdown",
      "source": [
        "## 참고 사이트\n",
        "- 파이썬 y축 중간 생략 그래프 (broken yaxis) 그리기 - 공부하는 도비 https://yang-wistory1009.tistory.com/144\n",
        "- matplotlib 꺾은 선 그래프 그리기 https://hleecaster.com/python-matplotlib-line-graph/\n",
        "- [Seaborn] 1. 선 그래프(라인 차트, Line Chart) 그리기 (feat.lineplot) https://zephyrus1111.tistory.com/248\n",
        "- Seaborn 플롯에서 범례 위치 변경 https://www.delftstack.com/ko/howto/seaborn/seaborn-legend-position/\n",
        "- Matplotlib 다양한 도형 삽입하기 https://codetorial.net/matplotlib/module_patches.html (여기선 안써도 됨)"
      ],
      "metadata": {
        "id": "tDPugbQmey4a"
      }
    }
  ]
}